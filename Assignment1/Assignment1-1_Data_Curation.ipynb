{
 "cells": [
  {
   "cell_type": "markdown",
   "metadata": {},
   "source": [
    "# M2177.003100 Deep Learning <br> Assignment #1 Part 1: Data Curation Practices"
   ]
  },
  {
   "cell_type": "markdown",
   "metadata": {},
   "source": [
    "Copyright (C) Data Science & AI Laboratory, Seoul National University. This material is for educational uses only. Some contents are based on the material provided by other paper/book authors and may be copyrighted by them. "
   ]
  },
  {
   "cell_type": "markdown",
   "metadata": {
    "colab_type": "text",
    "id": "5hIbr52I7Z7U"
   },
   "source": [
    "# The objective of this assignment is to learn about simple data curation practices, and familiarize you with some of the data we'll be reusing later.\n",
    "\n",
    "This notebook uses the [notMNIST](http://yaroslavvb.blogspot.com/2011/09/notmnist-dataset.html) dataset to be used with python experiments. This dataset is designed to look like the classic [MNIST](http://yann.lecun.com/exdb/mnist/) dataset, while looking a little more like real data: it's a harder task, and the data is a lot less 'clean' than MNIST.\n",
    "\n",
    "**Note**: Certain details are missing or ambiguous on purpose, in order to test your knowledge on the related materials. However, if you really feel that something essential is missing and cannot proceed to the next step, then contact the teaching staff with clear description of your problem. The *Exercises* are self-evaluated assignments(**they are not included in your assignment score**). However, you must go through the exercises to perform well in further assignments.\n",
    "\n",
    "### Submitting your work:\n",
    "<font color=red>**DO NOT clear the final outputs**</font> so that TAs can grade both your code and results.  \n",
    "Once you have done **part 1 - 3**, run the *CollectSubmission.sh* script with your **Student number** as input argument. PLEASE comment any print/plot function in *Excercises* on submission. <br>\n",
    "This will produce a compressed file called *[Your student number].tar.gz*. Please submit this file on ETL. &nbsp;&nbsp; (Usage: ./*CollectSubmission.sh* &nbsp; 20\\*\\*-\\*\\*\\*\\*\\*)"
   ]
  },
  {
   "cell_type": "markdown",
   "metadata": {
    "colab_type": "text",
    "id": "jNWGtZaXn-5j"
   },
   "source": [
    "## Download datasets\n",
    "\n",
    "First, we'll download the dataset to our local machine. The data consists of characters rendered in a variety of fonts on a 28x28 image. The labels are limited to 'A' through 'J' (10 classes). The training set has about 500k and the testset 19000 labeled examples. Given these sizes, it should be possible to train models quickly on any machine."
   ]
  },
  {
   "cell_type": "code",
   "execution_count": 1,
   "metadata": {
    "cellView": "both",
    "colab": {
     "autoexec": {
      "startup": false,
      "wait_interval": 0
     }
    },
    "colab_type": "code",
    "id": "apJbCsBHl-2A"
   },
   "outputs": [],
   "source": [
    "# These are all the modules we'll be using later. Make sure you can import them\n",
    "# before proceeding further.\n",
    "from __future__ import print_function\n",
    "import matplotlib.pyplot as plt\n",
    "import numpy as np\n",
    "import os\n",
    "import sys\n",
    "import tarfile\n",
    "from IPython.display import display, Image\n",
    "from sklearn.linear_model import LogisticRegression\n",
    "from six.moves.urllib.request import urlretrieve\n",
    "from six.moves import cPickle as pickle\n",
    "\n",
    "# Config the matplotlib backend as plotting inline in IPython\n",
    "%matplotlib inline\n",
    "# PLEASE Comment this line on submission"
   ]
  },
  {
   "cell_type": "code",
   "execution_count": 2,
   "metadata": {
    "cellView": "both",
    "colab": {
     "autoexec": {
      "startup": false,
      "wait_interval": 0
     },
     "output_extras": [
      {
       "item_id": 1
      }
     ]
    },
    "colab_type": "code",
    "executionInfo": {
     "elapsed": 186058,
     "status": "ok",
     "timestamp": 1444485672507,
     "user": {
      "color": "#1FA15D",
      "displayName": "Vincent Vanhoucke",
      "isAnonymous": false,
      "isMe": true,
      "permissionId": "05076109866853157986",
      "photoUrl": "//lh6.googleusercontent.com/-cCJa7dTDcgQ/AAAAAAAAAAI/AAAAAAAACgw/r2EZ_8oYer4/s50-c-k-no/photo.jpg",
      "sessionId": "2a0a5e044bb03b66",
      "userId": "102167687554210253930"
     },
     "user_tz": 420
    },
    "id": "EYRJ4ICW6-da",
    "outputId": "0d0f85df-155f-4a89-8e7e-ee32df36ec8d"
   },
   "outputs": [
    {
     "name": "stdout",
     "output_type": "stream",
     "text": [
      "Found and verified ./data/notMNIST_large.tar.gz\n",
      "Found and verified ./data/notMNIST_small.tar.gz\n"
     ]
    }
   ],
   "source": [
    "url = 'https://commondatastorage.googleapis.com/books1000/'\n",
    "last_percent_reported = None\n",
    "data_root = './data' # Change me to store data elsewhere\n",
    "\n",
    "if not os.path.exists(data_root):\n",
    "  os.makedirs(data_root)\n",
    "\n",
    "def download_progress_hook(count, blockSize, totalSize):\n",
    "    \"\"\"A hook to report the progress of a download. This is mostly intended for users with\n",
    "    slow internet connections. Reports every 5% change in download progress.\n",
    "    \"\"\"\n",
    "    global last_percent_reported\n",
    "    percent = int(count * blockSize * 100 / totalSize)\n",
    "\n",
    "    if last_percent_reported != percent:\n",
    "        if percent % 5 == 0:\n",
    "            sys.stdout.write(\"%s%%\" % percent)\n",
    "            sys.stdout.flush()\n",
    "        else:\n",
    "            sys.stdout.write(\".\")\n",
    "            sys.stdout.flush()\n",
    "\n",
    "    last_percent_reported = percent\n",
    "        \n",
    "def maybe_download(filename, expected_bytes, force=False):\n",
    "    \"\"\"Download a file if not present, and make sure it's the right size.\"\"\"\n",
    "    dest_filename = os.path.join(data_root, filename)\n",
    "    if force or not os.path.exists(dest_filename):\n",
    "        print('Attempting to download:', filename) \n",
    "        filename, _ = urlretrieve(url + filename, dest_filename, reporthook=download_progress_hook)\n",
    "        print('\\nDownload Complete!')\n",
    "    statinfo = os.stat(dest_filename)\n",
    "    if statinfo.st_size == expected_bytes:\n",
    "        print('Found and verified', dest_filename)\n",
    "    else:\n",
    "        raise Exception(\n",
    "          'Failed to verify ' + dest_filename + '. Can you get to it with a browser?')\n",
    "    return dest_filename\n",
    "\n",
    "train_filename = maybe_download('notMNIST_large.tar.gz', 247336696)\n",
    "test_filename = maybe_download('notMNIST_small.tar.gz', 8458043)"
   ]
  },
  {
   "cell_type": "markdown",
   "metadata": {
    "colab_type": "text",
    "id": "cC3p0oEyF8QT"
   },
   "source": [
    "Extract the dataset from the compressed .tar.gz file.\n",
    "This should give you a set of directories, labeled A through J."
   ]
  },
  {
   "cell_type": "code",
   "execution_count": 3,
   "metadata": {
    "cellView": "both",
    "colab": {
     "autoexec": {
      "startup": false,
      "wait_interval": 0
     },
     "output_extras": [
      {
       "item_id": 1
      }
     ]
    },
    "colab_type": "code",
    "executionInfo": {
     "elapsed": 186055,
     "status": "ok",
     "timestamp": 1444485672525,
     "user": {
      "color": "#1FA15D",
      "displayName": "Vincent Vanhoucke",
      "isAnonymous": false,
      "isMe": true,
      "permissionId": "05076109866853157986",
      "photoUrl": "//lh6.googleusercontent.com/-cCJa7dTDcgQ/AAAAAAAAAAI/AAAAAAAACgw/r2EZ_8oYer4/s50-c-k-no/photo.jpg",
      "sessionId": "2a0a5e044bb03b66",
      "userId": "102167687554210253930"
     },
     "user_tz": 420
    },
    "id": "H8CBE-WZ8nmj",
    "outputId": "ef6c790c-2513-4b09-962e-27c79390c762"
   },
   "outputs": [
    {
     "name": "stdout",
     "output_type": "stream",
     "text": [
      "./data/notMNIST_large already present - Skipping extraction of ./data/notMNIST_large.tar.gz.\n",
      "['./data/notMNIST_large/A', './data/notMNIST_large/B', './data/notMNIST_large/C', './data/notMNIST_large/D', './data/notMNIST_large/E', './data/notMNIST_large/F', './data/notMNIST_large/G', './data/notMNIST_large/H', './data/notMNIST_large/I', './data/notMNIST_large/J']\n",
      "./data/notMNIST_small already present - Skipping extraction of ./data/notMNIST_small.tar.gz.\n",
      "['./data/notMNIST_small/A', './data/notMNIST_small/B', './data/notMNIST_small/C', './data/notMNIST_small/D', './data/notMNIST_small/E', './data/notMNIST_small/F', './data/notMNIST_small/G', './data/notMNIST_small/H', './data/notMNIST_small/I', './data/notMNIST_small/J']\n"
     ]
    }
   ],
   "source": [
    "num_classes = 10\n",
    "np.random.seed(133)\n",
    "\n",
    "def maybe_extract(filename, force=False):\n",
    "    root = os.path.splitext(os.path.splitext(filename)[0])[0]  # remove .tar.gz\n",
    "    if os.path.isdir(root) and not force:\n",
    "    # You may override by setting force=True.\n",
    "        print('%s already present - Skipping extraction of %s.' % (root, filename))\n",
    "    else:\n",
    "        print('Extracting data for %s. This may take a while. Please wait.' % root)\n",
    "        tar = tarfile.open(filename)\n",
    "        sys.stdout.flush()\n",
    "        tar.extractall(data_root)\n",
    "        tar.close()\n",
    "    data_folders = [\n",
    "        os.path.join(root, d) for d in sorted(os.listdir(root))\n",
    "        if os.path.isdir(os.path.join(root, d))]\n",
    "    if len(data_folders) != num_classes:\n",
    "        raise Exception(\n",
    "          'Expected %d folders, one per class. Found %d instead.' % (\n",
    "            num_classes, len(data_folders)))\n",
    "    print(data_folders)\n",
    "    return data_folders\n",
    "  \n",
    "train_folders = maybe_extract(train_filename)\n",
    "test_folders = maybe_extract(test_filename)"
   ]
  },
  {
   "cell_type": "markdown",
   "metadata": {
    "colab_type": "text",
    "id": "4riXK3IoHgx6"
   },
   "source": [
    "---\n",
    "Excercise 1\n",
    "---------\n",
    "\n",
    "Let's take a peek at some of the data to make sure it looks sensible. Each exemplar should be an image of a character A through J rendered in a different font. Display a sample of the images that we just downloaded. Hint: you can use the package IPython.display Image method.\n",
    "\n",
    "---"
   ]
  },
  {
   "cell_type": "code",
   "execution_count": 5,
   "metadata": {},
   "outputs": [
    {
     "name": "stdout",
     "output_type": "stream",
     "text": [
      "Automatically created module for IPython interactive environment\n",
      "./data/notMNIST_large/A\n",
      "./data/notMNIST_large/A/Q3JlZXBpbmcgRXZpbC50dGY=.png\n"
     ]
    },
    {
     "data": {
      "image/png": "iVBORw0KGgoAAAANSUhEUgAAABwAAAAcCAAAAABXZoBIAAABy0lEQVR4nG2SPWhUURCFz9w7a8AEjRb6JLxOArsgYiR2oqAJksYyjaYTLC1EBMtFrCRYpLGUICLEKhJSGBsbFxEsXDAgESEYZI2bjSHuuz/HYt+StzxPOd89h5m5AxRlcXndZTOw+J9mNxlZgykTizv0IXK67xx8M4xoAmYgZWiRwQSD6yNeyqnV3/SMkVfy3AOnCRMro7QvO1LuR3C4yYzzeE0+VwzmWtxixp0xTO6STwYnNbjZZZfLqOAus3CpGC1I/zDj8lEorjHjGgrBFhN0fCwigFkkO+kBFCTvyYewBhCc2uHbglHwhlyCtVZVpfKJew8O9bHFNNlK8yYM6sx4Awrt4Sng3la6dfxCmlTH0oSKTbDvfMf26vZes8VcnvN5jsUcY68YnPM+kJH+PEy+m0iGGEPsO+lYhwIGtQ4DSTJG75zz3rkY2T4NwOAFXQzRO8+CPBcgJp5raDC9oX40ftntD9nFb/sLIl8mVTCl3aGfrRMbqx+/r+8CAF7F8f1hjFehWCRXTtpjFgCMqqqtqG3Qcw5IvvI+AIiq6S9UcZtdPsKZz1yCNTLw9YLRDbJpZms4MhRIFiG1/RQgkjX+vVq6f8FI/dnZfzx6AlglfWZQAAAAAElFTkSuQmCC\n",
      "text/plain": [
       "<IPython.core.display.Image object>"
      ]
     },
     "metadata": {
      "image/png": {
       "width": "30"
      }
     },
     "output_type": "display_data"
    },
    {
     "name": "stdout",
     "output_type": "stream",
     "text": [
      "./data/notMNIST_large/B\n",
      "./data/notMNIST_large/B/Q3JlZXBpbmcgRXZpbC50dGY=.png\n"
     ]
    },
    {
     "data": {
      "image/png": "iVBORw0KGgoAAAANSUhEUgAAABwAAAAcCAAAAABXZoBIAAACVUlEQVR4nD2RQWjXdRjGP+/3+5v/4TbQMd0aKTP0YCxMCpaRY5YoehFB6eJRhTp10EOHbpmgByEoImiXooINIrp1UYPyoqLCGFOHydxEozFy0/9/v+/7Ph3+suf6vs/z8n4eAxpD24Zas755y76xnuV//5mfnbn3YD4AY/34nt5ukBJriv+mv/urZwnsb3m4S+4lFOGluCS5fk+mGWQpQUrZMEs5JxQunlSmubUwzAIzwEzm35M5olCUug61VWqX5LpbgXFZJSTV09PLmpt63l5xXaEi+cQYy9efPpy8kQe7Hz0beu/wWD8YO3ohc0JxnNy+awlj44JcrpMV4Pw2kagUKVmJjldHjvdh4WkAMkf0MZ1VzoYx+MP9Fam4QhMdFfA209RuWv9OY8NnO2WyTHP+4reqzHs+5EDfzqWbWz8dlsnJiz/deLDw6IUZmS9UXn4YXlyh5ld7OiEnSHytUreatVTXpYQkhRa/fCMBmf2KkHRvRpJUh1Rcat1+FwOmXr/0Z8/d63HwaP+G3V24UgrvaI7cITG8qAMvGRjbzs8pJIUukDD+kA7RSGYd65JB97Hx21F0jkS7/i5IpnqVbKxMnvrVxAuMKvnNvYxO1kHevHG2NXB2a+dbr2AMICp4hn/0/pXFN7f39169euI1GaH8yycIKk5rrWdJdSmuom/IUBkNsAjMzFy5AjzyaKNlwrgml9QmIUWpI7T8AQnY++Oqike4FO4eklZ/PjaIAYw8V9vyeEmStHLr0i6sPTPOXHw61RiuPx/ftGNdpObD2UK2CID/AQAWip91gyzUAAAAAElFTkSuQmCC\n",
      "text/plain": [
       "<IPython.core.display.Image object>"
      ]
     },
     "metadata": {
      "image/png": {
       "width": "30"
      }
     },
     "output_type": "display_data"
    },
    {
     "name": "stdout",
     "output_type": "stream",
     "text": [
      "./data/notMNIST_large/C\n",
      "./data/notMNIST_large/C/Q3JlZXBpbmcgRXZpbC50dGY=.png\n"
     ]
    },
    {
     "data": {
      "image/png": "iVBORw0KGgoAAAANSUhEUgAAABwAAAAcCAAAAABXZoBIAAAB3ElEQVR4nG2QT2jPYRzH38/neTZTG2Vtk/1RSmkSiQOHKUnKTZMdjIOmJuLshhzk4uKgpnZYlJIdtHJSLrYSimQ5EK1kY7Fs++37PM/L4bffb2t+7+vr8/583u+PU1nOlBxtvaf3fBj/MzMxURiowpxTx9mRaQDIjHXKVZk27Lv2m0xKpBhTZu5xk1yQJMutz7uhJHPK5iUtNvq5ZZ/XECUqykUsGFsvJyc5cfdC8pPvPn+lvb75cBfYk74lR9k3Qpo9UwnQ2HP59dg6mSQp6BwLXFTwIYQQgqT6hmrWY1Pwo3N5VHI+OKuwQWJkQF4rctWO/Sxyu+pbo1544VZmV8t0RHqEpyZsOCh1qSaT9qbMVLP+X+tMttOUtvTXCpRlJqGeGrDhgKxNmHa3Fmto0PGHG3WPSOJVi+pWn63Ttm8M6hYRCobkbNnsnA9qeQOj2j9PhhxfXjGF4JzzklPPR0pcl25QACkx3FIu5NtPPY0U3HFS/TgRiAW/hk+0q+nm+7+QFnggk9chKBIQgbm3X8jEUuLnLnnJNFCQY5HJRQSKGBNLz3aUq5u2n58kk2ImLSUyC5e2+spDzWnT1dHvZIA8P/2pT2YmlblZEptPHu3uWLg/OjszEz1Zkv4BtVsIp4TuAdIAAAAASUVORK5CYII=\n",
      "text/plain": [
       "<IPython.core.display.Image object>"
      ]
     },
     "metadata": {
      "image/png": {
       "width": "30"
      }
     },
     "output_type": "display_data"
    },
    {
     "name": "stdout",
     "output_type": "stream",
     "text": [
      "./data/notMNIST_large/D\n",
      "./data/notMNIST_large/D/Q3JlZXBpbmcgRXZpbC50dGY=.png\n"
     ]
    },
    {
     "data": {
      "image/png": "iVBORw0KGgoAAAANSUhEUgAAABwAAAAcCAAAAABXZoBIAAACAUlEQVR4nG2RS0uVURSGn7325zHrgBCYYhQpYiWRkERBhVCDBkn9hCIIR40CZ80d1MCuEM2CcKCNjIyg0ggqqCgH3SAzCFNHeapz+fa33wbHoyfqGa6HdeFdDnACwKl/qK/l+413ucLswo+SEw6gtWO9a9u8o3dXjirln+VzoxbBOPJbUZIUQ1QMIWTKNN+KMxzbm0K15gw5b2ZyadsABkbXsqKkmAZJWZRCGoImq7K3rBhSScoKRan4S1KmwjYSHJ25zDzx25P7r5fW9ZRmK/17+w7FfNcXcOS/qnLnzJ4mVnGMSscAzynpMh58Ymbem0saOShdAYx70gCN3q11Gt1B872GY5yFZ1Qy1Y9t91nbPhwNdzWGUUdCy1tpGIzdJV0gqXPOMaas1AkY1/UmYW2jseWSyrqKgWdEC82r0nIcDaroYYID46ke10xijvyUyjEewAPGc+3HgyUGbBqcU0h1fsX1lOc24BMHtJ+dXlYMFY1Uz0+4peVWDOsenCgoqlKJuog5gFzzIy1tpGPoZUVSSEOmwiArcW1dDCpOfyxKCiGkmWaOb6o5DqtKGmIWFPVhJ+ZrSfUQjcw5H6PZp5sP3heTLNbyuKYgxTSNUZ9P58DVPYdJZVKU0qmTeVxS/ziSTpBbfPFqfAbnY+Avbk8o6AQeS/iXrrl0GN9g/1F/AC2SIGjBibKVAAAAAElFTkSuQmCC\n",
      "text/plain": [
       "<IPython.core.display.Image object>"
      ]
     },
     "metadata": {
      "image/png": {
       "width": "30"
      }
     },
     "output_type": "display_data"
    },
    {
     "name": "stdout",
     "output_type": "stream",
     "text": [
      "./data/notMNIST_large/E\n",
      "./data/notMNIST_large/E/Q3JlZXBpbmcgRXZpbC50dGY=.png\n"
     ]
    },
    {
     "data": {
      "image/png": "iVBORw0KGgoAAAANSUhEUgAAABwAAAAcCAAAAABXZoBIAAACJUlEQVR4nF2Su2/OYRzFP9/v8/xa4vK6xOWVNIaiNBohwSSuS2My2CSCoTYSq8HAIPEPuCwSC4mNSZTwShAdSBNFQ1ERt2iqTTW/53mOoWVwppNzppPzAXAWLDeLDgu3r28cG1WRVMpIF+DsGpq85oTemx/Tr69Ff7UfnFPK+rDxUEtFkspsm3U6ArvIvqzVoBR3YSCA7Csc5wnOnEbOHr2UnFI2MzPne7TEbgAFZQUHYGzKgJUbzEvPC4CsCPox/DH/vt0/aaa4skQQqHhgonX34dC4AFyCYQjsUClK9/s6AEJbBUAI5h6NHpi+emVAAOSi7iPt7zubR8ZQNDqwN8cxFnWs6WwumdvcNoccro+FTBQj8Ji1B3rXNQ0AEil8wSCK5+T61p65QCkAblSsAMDpliTVKZdUJ0lSmdBRAkSjCxUZmAUgT38bvvyg+ZoCEQ6SLRjw69XAo5fjEz+n4DMIYm7sxD2/7m+9/fBlZo57Ns3Y8FQ621kBhPa2qqqqEIJHA4hc0aDj7TEG/lNMC/YS26fKtKF9fYunPg3N3/7t0s++W/1eYFWtegvd5wbut/JfQHKtrTiw+LP0bLCeyVKq6zrVte6BQeSGaqnUKaV/bNU6T4SYGlvwgkWKMtgsQp8QxLYzncWF8iwiM8fRg0E8cTKZDPN65M2734wOjpelxza9vEMBVo+qaPL9wMXN9v9M4PDkhd718wA8VlUMIYRACAB/ACevNdNn7vxkAAAAAElFTkSuQmCC\n",
      "text/plain": [
       "<IPython.core.display.Image object>"
      ]
     },
     "metadata": {
      "image/png": {
       "width": "30"
      }
     },
     "output_type": "display_data"
    },
    {
     "name": "stdout",
     "output_type": "stream",
     "text": [
      "./data/notMNIST_large/F\n",
      "./data/notMNIST_large/F/Q3JlZXBpbmcgRXZpbC50dGY=.png\n"
     ]
    },
    {
     "data": {
      "image/png": "iVBORw0KGgoAAAANSUhEUgAAABwAAAAcCAAAAABXZoBIAAAB10lEQVR4nHWQOU9UYRSGn/Pdy+DCiEEcZTEuESwQJEYyxkTBGBujP4DGQjus/APY0ljYaAyNNYnGpTNxiYmFSxAbMVgQxCBMjAVhcbjfPa+FQow6T3me5D3vOQamg92TH80cike7e7t2Fht9cs63Hr+OseP2suJVrOPinRnXBlHDJIwpRr3bNLAkl8eYu0t5XNObLQTK83KtzVeVZbnkecyyLHqmG2DwWlGSuxTjRu6axkhNPX0kIBeWoO/zM7OL29rKzbQHMJ4rKouS68XgsZIBRulE+QCpqXUPHlKmHobp0arJ6pQHq1QAAveUaeXuhc0YIVhq0FBPSBIDOquu+4ewYEB9gcaRV3OfzhKAlJMFPgyumtTQd6bcWZ040qm8pZ3gkHIYpldDy6lzp9sAOsgxviIgJcX7nzXtL4JyMzwEF0UMCDzFGgZ6inmMbkgBS6AVfrV9oqxazdZ/41q61tu/FwNS392FFUA2OVJ/5duj8fzLZxO/dw7tynkw8aMyNb7CKAAJuABompUuEwBLEwtpkgTWSRub4T11ufAIcv4gLC+CEWOei78JlZfg/4zXL1kAqykLsK+mBM7XkBTeSgulGsmXFHUr1JDD0s2ajbY/Xu0i+b/7Ccly+P/uo5cdAAAAAElFTkSuQmCC\n",
      "text/plain": [
       "<IPython.core.display.Image object>"
      ]
     },
     "metadata": {
      "image/png": {
       "width": "30"
      }
     },
     "output_type": "display_data"
    },
    {
     "name": "stdout",
     "output_type": "stream",
     "text": [
      "./data/notMNIST_large/G\n",
      "./data/notMNIST_large/G/Q3JlZXBpbmcgRXZpbC50dGY=.png\n"
     ]
    },
    {
     "data": {
      "image/png": "iVBORw0KGgoAAAANSUhEUgAAABwAAAAcCAAAAABXZoBIAAACLUlEQVR4nE2SP0jVURTHv/fc+3s+jMwX5SsqH+QSlUXYIC1Bf0AaLJpsioYacrBBAoeWaoi2hqKIcnMqFVIXq0EqcLLA6C3P/ktgmWn1fO/ee74N7/ew73g+cM6953wM6hGj7Dyfz3a40vjdzy7gv4igMOhJkpHFAswaMgnaR1YYQwjK6Pnl6Bo1Fru/MqxWvQ9BSV9lH2zKkPQvMbAW1ch4OwcDB8DGlpFDHr8+fpvxhdbmtg3m7cUpA6Y9h1hlqfYIwd7ycAOsSXtuf6j8dHMnRJyzYtDRhMTU4XNyqAEiAGBEMrW6tQKLg1phNxqkNgGA5AtbmgSAI/pMZnISVQJWY2Muf7x7z7q/y4sLCxPAGXJuPQwAg5Y7H1bTDzFwAm6WvAcHAJmTJSrVB1XV4NkHvCYH4ACHXnofVakhKCNfwRkDZGuL2gbNaIQ1FoDB5pxrawX2QwFgCUoRYPENDjTTJHSNWSAPAkQJGRRfTr8rfsezI3J1eAndjJzfCANB+5MrnQkAwb5V5Qk43GcIvIFE6sdzzmKMnG00Bj1UVZ6DWBjrLMQJBujZBQskM4xUHS3AWRGxgk1TLPN67da36KmBC6dgAINdPS9Y4aPUkjEGkl75+FjbjtbeMmNcuZBJ4TVWlGSMZPgdqNUyLyFJ9cpOM0aS9JHUwMgHdQ8gKIzPMwalhuC18mf5MmRNWQM3yEiSysrp/FZIXVkDCNR1nT2cez/388foU0OrTOE/bhA9blRe+ZUAAAAASUVORK5CYII=\n",
      "text/plain": [
       "<IPython.core.display.Image object>"
      ]
     },
     "metadata": {
      "image/png": {
       "width": "30"
      }
     },
     "output_type": "display_data"
    },
    {
     "name": "stdout",
     "output_type": "stream",
     "text": [
      "./data/notMNIST_large/H\n",
      "./data/notMNIST_large/H/Q3JlZXBpbmcgRXZpbC50dGY=.png\n"
     ]
    },
    {
     "data": {
      "image/png": "iVBORw0KGgoAAAANSUhEUgAAABwAAAAcCAAAAABXZoBIAAAB80lEQVR4nE2Su2uUQRTFf3fm2+wmLEEhxAUFI4LESi2iRUQFEQuJsVFBK2Oh+BdErG0SK0XQJlYWIqJdBAtBjPiK8UGihfGBsQkYlCya3f1mjsXsFz3d3Me595y5ADj2TlzYjJFgjMz8aK5MrgeM6uhvafkQjlTat6QYpWHAc1mtvKnHLvUa1c/Kg8YBPAeVq6X7tIkdN9XUM5+YDoCMO2Rqz3yPGAsZ4LmtXLpCAcd1ac5DBrCIOD3hYjspBqAVXHQAVYxv7V0B0Q2/IEVquOYSkf8xCzgsdPVh16ZXWY1KBtMYDseuLQ3e4bCEEoMblb8BHOLjYpkcQwk5I9irFxaSCY80342RVapre2q17WMr0hEKKUbp6rrOzkq5o1wqlcoWmLrnQpI8+EdR/xDzKJ3DJylnK8FCCCHGKEnmLbATEm0d8KAoM1DA+8YYggxjFiHhfJLpiDb/tUh+AQxbvju3fyCj/mTyYm8rT4Z4Tqmp84PDG8DW9PRU8Qta7selmVuJLExlubf4E7CKp9r7wZJDOzCGwIU8mplTR1a479kdFPR9NZBxQk0N4cGJTzOIUlf7gCwvjwLbAFzs3/QaoaJTNB5g7APIjt4yRSPWC1rTyzz9NRyXgvT8cHHvnktq6UY5vfc8bDw9troOnjN6ezKl/gLdNuXEaH1T4gAAAABJRU5ErkJggg==\n",
      "text/plain": [
       "<IPython.core.display.Image object>"
      ]
     },
     "metadata": {
      "image/png": {
       "width": "30"
      }
     },
     "output_type": "display_data"
    },
    {
     "name": "stdout",
     "output_type": "stream",
     "text": [
      "./data/notMNIST_large/I\n",
      "./data/notMNIST_large/I/Q3JlZXBpbmcgRXZpbC50dGY=.png\n"
     ]
    },
    {
     "data": {
      "image/png": "iVBORw0KGgoAAAANSUhEUgAAABwAAAAcCAAAAABXZoBIAAABwUlEQVR4nG2Rz0vVURDFP3PvfYWYIqQYQSpZRlSQZLQoCPqxS9y3biFE2Kq/pGjXLmjVql0Q2CKiqE2oICklBhUa+nqIvXfvnBbP9PvCszpzz5zhzB2DVISp//a9I48+jJ8fO6ovq1uNen2zvmaADQ6P3roxQCc8PIGumTe/XVIpnksuLnnJObd86wr0Lat4zq42Sik7RNMhbLzHLUYrGYAQAp5zzi16YUqllJx3jNvLi6stSXK1riXuoAj8mf043Vfiwrh1D506PRA08O4VZ+pq/lh4OTMKX9XSHFZJ/ODz/XO9AYg8VFNzBAsxpZRShMNdACEFo2dFmq8607olF+7EMnHMw3b1H4KRXWpznGcE9oUtSlOkinOXRa6ezNQ6xlZ4QpT9RWd2qYb2FwMTI6Uzzl5hjMcmsSruZXNOUOMnGNXhhsWUaryQPu0+dSAw8kvavn7wUC0amLVbgpWesfGh7suXPNBoePFmg/m7myaMx98Xvv27tXv70JsXCZBMBwb7o4qwCCYJZF3dAEEM424xpQhgFkKIqk1ikDR8gSBXR0BxvL3nZF+rxn+QnrfFjfWnb8/eXHu9VNl8Y3mFAn8B/jPuL0exhyYAAAAASUVORK5CYII=\n",
      "text/plain": [
       "<IPython.core.display.Image object>"
      ]
     },
     "metadata": {
      "image/png": {
       "width": "30"
      }
     },
     "output_type": "display_data"
    },
    {
     "name": "stdout",
     "output_type": "stream",
     "text": [
      "./data/notMNIST_large/J\n",
      "./data/notMNIST_large/J/Q3JlZXBpbmcgRXZpbC50dGY=.png\n"
     ]
    },
    {
     "data": {
      "image/png": "iVBORw0KGgoAAAANSUhEUgAAABwAAAAcCAAAAABXZoBIAAABsklEQVR4nG2SO2tUURSFv3POnYQU5s6gMr5Q4gMUFRwc00rUH6CVoiBqBPEPiKVdBEGwsROb2JjOSoIKNqYQB4sIKRyiDMjIkJARC829Zy+LOwr34m6/tfZjsR2VSn8cubl3fHFhsn7/RZkEzgyWN2Sy9aHFk0kJOvZvqycRXAP5qTIULaQACAtHK8bmd5kkSVGr230Z7tkKFg3IeDdIyjANWVLoa0yn5Zlcw6v7dfdhfs73Xg1LyHPh8eyJCU5LDwnVBEaSfQM9ZdzjyyAkiRe9IQfZNCozI+DV2sVrfKw6i7o7wTqO/0HHN1hBAL7KEy7rCR7wmFWo2EmXAHiOH7AQynwHjaJreB8vUjrJM68lcEBrU3Gu3a65xHs3gm/1ZQwH3FEWFfUAV2QQfOCZ+ikOuCqzPJq9uT19KB1tOytdIoHkGLgANjMD/YWO633cYIz+MgZ8VpZLUp4VH6C1zstPulfkeqory6MkyWKWZSYpaqWBA5i80pHl+eh1JIt5NJ0rUnDUbqzKZDH+VcTfulX0dcGz5fri2j+rZFqawhc5OG+i2a7/Onu+6QH78Oh5BvAH3HnjCxHp5N4AAAAASUVORK5CYII=\n",
      "text/plain": [
       "<IPython.core.display.Image object>"
      ]
     },
     "metadata": {
      "image/png": {
       "width": "30"
      }
     },
     "output_type": "display_data"
    }
   ],
   "source": [
    "print(__doc__)\n",
    "\"\"\" Use Image(filename=sample)\n",
    "    PLEASE comment the Image function in this block on submission \"\"\"\n",
    "def displayImage(data_folders):  \n",
    "    for folder in data_folders:\n",
    "        print (folder)\n",
    "        sample_image_file = [os.path.join(folder, f) for f in os.listdir(folder)][1]\n",
    "        print( sample_image_file)\n",
    "        display(Image(filename=sample_image_file, width = '30'))\n",
    "displayImage(train_folders)\n"
   ]
  },
  {
   "cell_type": "markdown",
   "metadata": {
    "colab_type": "text",
    "id": "PBdkjESPK8tw"
   },
   "source": [
    "## Load datasets\n",
    "\n",
    "Now let's load the data in a more manageable format. Since, depending on your computer setup you might not be able to fit it all in memory, we'll load each class into a separate dataset, store them on disk and curate them independently. Later we'll merge them into a single dataset of manageable size.\n",
    "\n",
    "We'll convert the entire dataset into a 3D array (image index, x, y) of floating point values, normalized to have approximately zero mean and standard deviation ~0.5 to make training easier down the road. \n",
    "\n",
    "A few images might not be readable, we'll just skip them."
   ]
  },
  {
   "cell_type": "code",
   "execution_count": 6,
   "metadata": {
    "cellView": "both",
    "colab": {
     "autoexec": {
      "startup": false,
      "wait_interval": 0
     },
     "output_extras": [
      {
       "item_id": 30
      }
     ]
    },
    "colab_type": "code",
    "executionInfo": {
     "elapsed": 399874,
     "status": "ok",
     "timestamp": 1444485886378,
     "user": {
      "color": "#1FA15D",
      "displayName": "Vincent Vanhoucke",
      "isAnonymous": false,
      "isMe": true,
      "permissionId": "05076109866853157986",
      "photoUrl": "//lh6.googleusercontent.com/-cCJa7dTDcgQ/AAAAAAAAAAI/AAAAAAAACgw/r2EZ_8oYer4/s50-c-k-no/photo.jpg",
      "sessionId": "2a0a5e044bb03b66",
      "userId": "102167687554210253930"
     },
     "user_tz": 420
    },
    "id": "h7q0XhG3MJdf",
    "outputId": "92c391bb-86ff-431d-9ada-315568a19e59"
   },
   "outputs": [
    {
     "name": "stdout",
     "output_type": "stream",
     "text": [
      "./data/notMNIST_large/A.pickle already present - Skipping pickling.\n",
      "./data/notMNIST_large/B.pickle already present - Skipping pickling.\n",
      "./data/notMNIST_large/C.pickle already present - Skipping pickling.\n",
      "Pickling ./data/notMNIST_large/D.pickle.\n",
      "./data/notMNIST_large/D\n",
      "Could not read: ./data/notMNIST_large/D/VHJhbnNpdCBCb2xkLnR0Zg==.png : cannot identify image file './data/notMNIST_large/D/VHJhbnNpdCBCb2xkLnR0Zg==.png' - it's ok, skipping.\n",
      "Full dataset tensor: (52911, 28, 28)\n",
      "Mean: -0.057367746\n",
      "Standard deviation: 0.45564738\n",
      "Pickling ./data/notMNIST_large/E.pickle.\n",
      "./data/notMNIST_large/E\n",
      "Full dataset tensor: (52912, 28, 28)\n",
      "Mean: -0.06989904\n",
      "Standard deviation: 0.45294148\n",
      "Pickling ./data/notMNIST_large/F.pickle.\n",
      "./data/notMNIST_large/F\n",
      "Full dataset tensor: (52912, 28, 28)\n",
      "Mean: -0.12558334\n",
      "Standard deviation: 0.44708934\n",
      "Pickling ./data/notMNIST_large/G.pickle.\n",
      "./data/notMNIST_large/G\n",
      "Full dataset tensor: (52912, 28, 28)\n",
      "Mean: -0.09458157\n",
      "Standard deviation: 0.44623974\n",
      "Pickling ./data/notMNIST_large/H.pickle.\n",
      "./data/notMNIST_large/H\n",
      "Full dataset tensor: (52912, 28, 28)\n",
      "Mean: -0.06852213\n",
      "Standard deviation: 0.45423186\n",
      "Pickling ./data/notMNIST_large/I.pickle.\n",
      "./data/notMNIST_large/I\n",
      "Full dataset tensor: (52912, 28, 28)\n",
      "Mean: 0.030786254\n",
      "Standard deviation: 0.46889815\n",
      "Pickling ./data/notMNIST_large/J.pickle.\n",
      "./data/notMNIST_large/J\n",
      "Full dataset tensor: (52911, 28, 28)\n",
      "Mean: -0.15335812\n",
      "Standard deviation: 0.44365624\n",
      "Pickling ./data/notMNIST_small/A.pickle.\n",
      "./data/notMNIST_small/A\n",
      "Could not read: ./data/notMNIST_small/A/RGVtb2NyYXRpY2FCb2xkT2xkc3R5bGUgQm9sZC50dGY=.png : cannot identify image file './data/notMNIST_small/A/RGVtb2NyYXRpY2FCb2xkT2xkc3R5bGUgQm9sZC50dGY=.png' - it's ok, skipping.\n",
      "Full dataset tensor: (1872, 28, 28)\n",
      "Mean: -0.13262635\n",
      "Standard deviation: 0.44512796\n",
      "Pickling ./data/notMNIST_small/B.pickle.\n",
      "./data/notMNIST_small/B\n",
      "Full dataset tensor: (1873, 28, 28)\n",
      "Mean: 0.0053560804\n",
      "Standard deviation: 0.45711532\n",
      "Pickling ./data/notMNIST_small/C.pickle.\n",
      "./data/notMNIST_small/C\n",
      "Full dataset tensor: (1873, 28, 28)\n",
      "Mean: -0.14152053\n",
      "Standard deviation: 0.44269028\n",
      "Pickling ./data/notMNIST_small/D.pickle.\n",
      "./data/notMNIST_small/D\n",
      "Full dataset tensor: (1873, 28, 28)\n",
      "Mean: -0.04921666\n",
      "Standard deviation: 0.45975894\n",
      "Pickling ./data/notMNIST_small/E.pickle.\n",
      "./data/notMNIST_small/E\n",
      "Full dataset tensor: (1873, 28, 28)\n",
      "Mean: -0.059914775\n",
      "Standard deviation: 0.45734966\n",
      "Pickling ./data/notMNIST_small/F.pickle.\n",
      "./data/notMNIST_small/F\n",
      "Could not read: ./data/notMNIST_small/F/Q3Jvc3NvdmVyIEJvbGRPYmxpcXVlLnR0Zg==.png : cannot identify image file './data/notMNIST_small/F/Q3Jvc3NvdmVyIEJvbGRPYmxpcXVlLnR0Zg==.png' - it's ok, skipping.\n",
      "Full dataset tensor: (1872, 28, 28)\n",
      "Mean: -0.11818536\n",
      "Standard deviation: 0.45227855\n",
      "Pickling ./data/notMNIST_small/G.pickle.\n",
      "./data/notMNIST_small/G\n",
      "Full dataset tensor: (1872, 28, 28)\n",
      "Mean: -0.09255032\n",
      "Standard deviation: 0.44900596\n",
      "Pickling ./data/notMNIST_small/H.pickle.\n",
      "./data/notMNIST_small/H\n",
      "Full dataset tensor: (1872, 28, 28)\n",
      "Mean: -0.058689233\n",
      "Standard deviation: 0.45875892\n",
      "Pickling ./data/notMNIST_small/I.pickle.\n",
      "./data/notMNIST_small/I\n",
      "Full dataset tensor: (1872, 28, 28)\n",
      "Mean: 0.052645072\n",
      "Standard deviation: 0.47189352\n",
      "Pickling ./data/notMNIST_small/J.pickle.\n",
      "./data/notMNIST_small/J\n",
      "Full dataset tensor: (1872, 28, 28)\n",
      "Mean: -0.1516892\n",
      "Standard deviation: 0.44801357\n"
     ]
    }
   ],
   "source": [
    "image_size = 28  # Pixel width and height.\n",
    "pixel_depth = 255.0  # Number of levels per pixel.\n",
    "\n",
    "def load_letter(folder, min_num_images):\n",
    "    \"\"\"Load the data for a single letter label.\"\"\"\n",
    "    image_files = os.listdir(folder)\n",
    "    dataset = np.ndarray(shape=(len(image_files), image_size, image_size),\n",
    "                         dtype=np.float32)\n",
    "    print(folder)\n",
    "    num_images = 0\n",
    "    for image in image_files:\n",
    "        image_file = os.path.join(folder, image)\n",
    "        try:            \n",
    "            image_data = (plt.imread(image_file, 0).astype(float) - \n",
    "                        pixel_depth / 2) / pixel_depth\n",
    "            if image_data.shape != (image_size, image_size):\n",
    "                raise Exception('Unexpected image shape: %s' % str(image_data.shape))\n",
    "            dataset[num_images, :, :] = image_data\n",
    "            num_images = num_images + 1\n",
    "        except IOError as e:\n",
    "            print('Could not read:', image_file, ':', e, '- it\\'s ok, skipping.')\n",
    "\n",
    "    dataset = dataset[0:num_images, :, :]\n",
    "    if num_images < min_num_images:\n",
    "        raise Exception('Many fewer images than expected: %d < %d' %\n",
    "                        (num_images, min_num_images))\n",
    "\n",
    "    print('Full dataset tensor:', dataset.shape)\n",
    "    print('Mean:', np.mean(dataset))\n",
    "    print('Standard deviation:', np.std(dataset))\n",
    "    return dataset\n",
    "        \n",
    "def maybe_pickle(data_folders, min_num_images_per_class, force=False):\n",
    "    dataset_names = []\n",
    "    for folder in data_folders:\n",
    "        set_filename = folder + '.pickle'\n",
    "        dataset_names.append(set_filename)\n",
    "        if os.path.exists(set_filename) and not force:\n",
    "          # You may override by setting force=True.\n",
    "          print('%s already present - Skipping pickling.' % set_filename)\n",
    "        else:\n",
    "            print('Pickling %s.' % set_filename)\n",
    "            dataset = load_letter(folder, min_num_images_per_class)\n",
    "            try:\n",
    "                with open(set_filename, 'wb') as f:\n",
    "                    pickle.dump(dataset, f, pickle.HIGHEST_PROTOCOL)\n",
    "            except Exception as e:\n",
    "                print('Unable to save data to', set_filename, ':', e)\n",
    "\n",
    "    return dataset_names\n",
    "\n",
    "train_datasets = maybe_pickle(train_folders, 45000)\n",
    "test_datasets = maybe_pickle(test_folders, 1800)"
   ]
  },
  {
   "cell_type": "markdown",
   "metadata": {
    "colab_type": "text",
    "id": "vUdbskYE2d87"
   },
   "source": [
    "---\n",
    "Exercise 2\n",
    "---------\n",
    "\n",
    "Let's verify that the data still looks good. Displaying a sample of the labels and images from the ndarray. *Hint*: you can use matplotlib.pyplot.\n",
    "\n",
    "---"
   ]
  },
  {
   "cell_type": "code",
   "execution_count": 7,
   "metadata": {},
   "outputs": [
    {
     "name": "stdout",
     "output_type": "stream",
     "text": [
      " Use Image(filename=sample)\n",
      "    PLEASE comment the Image function in this block on submission \n",
      "Lable of image is  J\n"
     ]
    },
    {
     "data": {
      "image/png": "iVBORw0KGgoAAAANSUhEUgAAAPsAAAD4CAYAAAAq5pAIAAAABHNCSVQICAgIfAhkiAAAAAlwSFlzAAALEgAACxIB0t1+/AAAADh0RVh0U29mdHdhcmUAbWF0cGxvdGxpYiB2ZXJzaW9uMy4xLjEsIGh0dHA6Ly9tYXRwbG90bGliLm9yZy8QZhcZAAANQUlEQVR4nO3db4wc9X3H8c/nzmdbnKGxQ3FcY8ifWpVQkzjR1SBBKxqaiNAHJopKcSTkRCgmSpASCalBtFJ4iKqENA/aVJfixIlS0kgJwqlQG8dNRfMgwIFcbKCJCTHB7tlHegJst77z3X374IbogJvZ9e7sznLf90ta7e78Zna+nvPnZm5/M/NzRAjAyjfUdAEA+oOwA0kQdiAJwg4kQdiBJFb1c2WrvSbWarSfq4Rd3d6iN2ZmS/XP693rX6xsn9dCadtw4n1NqHy7W9U/s6Oz60rbTk+e1tmXzi77AV2F3fb1kr4iaVjSP0TEPVXzr9WorvR13awS58lr1lS2x8xMZfuzd1xV2f7on/99ZfvphbOlbeuG1lYuu5Kdi/nSthEPVy5766+uKW37wa4flLZ1/KvV9rCkv5X0YUlXSNpp+4pOPw9Ab3VzHLVd0rMR8VxEzEr6jqQd9ZQFoG7dhH2zpBeWvD9WTHsN27ttT9ieOKfqQ0YAvdPzb0giYjwixiJibETVfz8C6J1uwn5c0pYl7y8tpgEYQN2E/TFJW22/w/ZqSTdL2ldPWQDq1nHXW0TM2b5d0r9qsettT0Q8VVtlAGrVVT97RDwk6aGaagHQQ3lPYQKSIexAEoQdSIKwA0kQdiAJwg4kQdiBJAg7kARhB5Ig7EAShB1IgrADSRB2IAnCDiRB2IEkCDuQBGEHkiDsQBKEHUiCsANJEHYgCcIOJEHYgSQIO5AEYQeSIOxAEoQdSIKwA0kQdiAJwg4k0dWQzbaPSjolaV7SXESM1VEUgPp1FfbCH0fEr2v4HAA9xGE8kES3YQ9JP7T9uO3dy81ge7ftCdsT5zTT5eoAdKrbw/hrIuK47Usk7bf9XxHx8NIZImJc0rgkXeQN0eX6AHSoqz17RBwvnqckPSBpex1FAahfx2G3PWr7wldfS/qQpMN1FQagXt0cxm+U9IDtVz/nHyPiX2qpCkDtOg57RDwn6b011gKgh+h6A5Ig7EAShB1IgrADSRB2IAnCDiRB2IEkCDuQBGEHkiDsQBKEHUiCsANJEHYgiTpuONk+S17V31Vm12p7x0yLW4Vxb6EVgz07kARhB5Ig7EAShB1IgrADSRB2IAnCDiTR307vkGJurq+rTG94uLvlXU8ZaB57diAJwg4kQdiBJAg7kARhB5Ig7EAShB1Ioq/97DOXjerI568sbf+tLS9XLj87V95n7BXcHxwtrikfHl4obZudrf4RX37Tocp2z1evG28eLffstvfYnrJ9eMm0Dbb32z5SPK/vbZkAutXOYfw3JF3/uml3SjoQEVslHSjeAxhgLcMeEQ9Lmn7d5B2S9hav90q6sea6ANSs0y/oNkbEZPH6hKSNZTPa3m17wvbE/OnTHa4OQLe6/jY+IkIVtyWMiPGIGIuIseF167pdHYAOdRr2k7Y3SVLxPFVfSQB6odOw75O0q3i9S9KD9ZQDoFda9rPbvl/StZIutn1M0hck3SPpu7ZvlfS8pJvaWdnbLnxJf/GBfy5t/9RbjlcuPx/l/cnDXrnnB1X9u6Xqf/vU/JnKZW/R1dUrjxV8AkMyLcMeETtLmq6ruRYAPbRyd4cAXoOwA0kQdiAJwg4kQdiBJPp6ietcDGt6rvOz6Gai/DbUwyv4nsfzLa5xvcCrS9vOtro+FmmwZweSIOxAEoQdSIKwA0kQdiAJwg4kQdiBJPraz26HRoY6H7J5jcvLXdGXuKr6Etcqa1fyPbZxXlZuQgC8BmEHkiDsQBKEHUiCsANJEHYgCcIOJEHYgSQIO5AEYQeSIOxAEoQdSIKwA0kQdiAJwg4kQdiBJFqG3fYe21O2Dy+Zdrft47YPFo8belsmgG61s2f/hqTrl5n+5YjYVjweqrcsAHVrGfaIeFjSdB9qAdBD3fzNfrvtJ4vD/PVlM9nebXvC9sSZ6dkuVgegG52G/auS3iVpm6RJSV8qmzEixiNiLCLGRjeUD0AIoLc6CntEnIyI+YhYkPQ1SdvrLQtA3ToKu+1NS95+RNLhsnkBDIaW9423fb+kayVdbPuYpC9Iutb2Nkkh6aik23pYI4AatAx7ROxcZvJ9PagFQA9xBh2QBGEHkiDsQBKEHUiCsANJEHYgCcIOJEHYgSQIO5AEYQeSIOxAEoQdSIKwA0kQdiAJwg4kQdiBJAg7kARhB5Ig7EAShB1IgrADSRB2IAnCDiRB2IEkCDuQBGEHkiDsQBKEHUiCsANJEHYgiZZht73F9o9tP237KdufLaZvsL3f9pHieX3vywXQqXb27HOS7oiIKyRdJekztq+QdKekAxGxVdKB4j2AAdUy7BExGRFPFK9PSXpG0mZJOyTtLWbbK+nGXhUJoHvn9Te77bdLep+kRyRtjIjJoumEpI0ly+y2PWF74sz0bBelAuhG22G3vU7S9yR9LiJeWdoWESEpllsuIsYjYiwixkY3rO6qWACdayvstke0GPRvR8T3i8knbW8q2jdJmupNiQDq0M638ZZ0n6RnIuLeJU37JO0qXu+S9GDLz5I0rCh9AOidVW3Mc7WkWyQdsn2wmHaXpHskfdf2rZKel3RTb0oEUIeWYY+In2hxp7yc6+otB0CvcAYdkARhB5Ig7EAShB1IgrADSbTT9VabuRjS9Nxox8svVPTFD3f8qUAO7NmBJAg7kARhB5Ig7EAShB1IgrADSRB2IIm+9rOfOrdG/35ia/kMlxyqXH5BCxWt9LQjh1+dKb+R8+xCeQ7YswNJEHYgCcIOJEHYgSQIO5AEYQeSIOxAEn3tZ58/NaKX/+1t5TO8p8XyUXFv+bL736I75n7+vXAu5kvbRlx9zsjzj15a2jZ7pnzUJfbsQBKEHUiCsANJEHYgCcIOJEHYgSQIO5BEy35221skfVPSRkkhaTwivmL7bkmflPRiMetdEfFQ1WeNnDyjzfc+Wtr+6T+7qrKWv9v809K2/12YrVx22NUd8ataXA8/7KS/FyPnCQzzUXXvBGlO5f3k7bhgqLw//K+m3l257O9+8WelbS++dLa0rZ2TauYk3RERT9i+UNLjtvcXbV+OiC+28RkAGtbO+OyTkiaL16dsPyNpc68LA1Cv8zo2tf12Se+T9Egx6XbbT9reY3vZe+XY3m17wvbEuZjpqlgAnWs77LbXSfqepM9FxCuSvirpXZK2aXHP/6XllouI8YgYi4ixEa+poWQAnWgr7LZHtBj0b0fE9yUpIk5GxHxELEj6mqTtvSsTQLdaht22Jd0n6ZmIuHfJ9E1LZvuIpMP1lwegLu18G3+1pFskHbJ9sJh2l6SdtrdpsTvuqKTbWn5SSDE3V9p89GOXVS7+iW/9YWnb1y/7j8plW3WlrNSutZEW1/7O/OkfVLavuvx0V+sfepOeytHy/0OLK39bLX/zLz9Q2vbKx99Suez8/zxXXlbFpbPtfBv/Ey1/tXhlnzqAwfLm/LUL4LwRdiAJwg4kQdiBJAg7kARhB5JwVN2euWYXeUNcOfQn5TO0qGXoggtK2/77tm2Vy/7eR8svC5Sk23/nQGX7+1eXXzq4bmht5bIYPC8v/F9l+yNnL6ps/5sXPljZfuKfLq9sv+TrT5S2xUyLa0gqLtd+ZOFHeiWml52BPTuQBGEHkiDsQBKEHUiCsANJEHYgCcIOJNHXfnbbL0p6fsmkiyX9um8FnJ9BrW1Q65KorVN11nZ5RPz2cg19DfsbVm5PRMRYYwVUGNTaBrUuido61a/aOIwHkiDsQBJNh3284fVXGdTaBrUuido61ZfaGv2bHUD/NL1nB9AnhB1IopGw277e9s9sP2v7ziZqKGP7qO1Dtg/anmi4lj22p2wfXjJtg+39to8Uz8uOsddQbXfbPl5su4O2b2ioti22f2z7adtP2f5sMb3RbVdRV1+2W9//Zrc9LOnnkj4o6ZikxyTtjIin+1pICdtHJY1FROMnYNj+I0mnJX0zIn6/mPbXkqYj4p7iF+X6iPj8gNR2t6TTTQ/jXYxWtGnpMOOSbpT0cTW47Srqukl92G5N7Nm3S3o2Ip6LiFlJ35G0o4E6Bl5EPCxp+nWTd0jaW7zeq8X/LH1XUttAiIjJiHiieH1K0qvDjDe67Srq6osmwr5Z0gtL3h/TYI33HpJ+aPtx27ubLmYZGyNisnh9QtLGJotZRsthvPvpdcOMD8y262T4827xBd0bXRMR75f0YUmfKQ5XB1Is/g02SH2nbQ3j3S/LDDP+G01uu06HP+9WE2E/LmnLkveXFtMGQkQcL56nJD2gwRuK+uSrI+gWz1MN1/MbgzSM93LDjGsAtl2Tw583EfbHJG21/Q7bqyXdLGlfA3W8ge3R4osT2R6V9CEN3lDU+yTtKl7vkvRgg7W8xqAM4102zLga3naND38eEX1/SLpBi9/I/0LSXzZRQ0ld75T0n8XjqaZrk3S/Fg/rzmnxu41bJb1V0gFJRyT9SNKGAartW5IOSXpSi8Ha1FBt12jxEP1JSQeLxw1Nb7uKuvqy3ThdFkiCL+iAJAg7kARhB5Ig7EAShB1IgrADSRB2IIn/B/rkCItOEEBNAAAAAElFTkSuQmCC\n",
      "text/plain": [
       "<Figure size 432x288 with 1 Axes>"
      ]
     },
     "metadata": {
      "needs_background": "light"
     },
     "output_type": "display_data"
    }
   ],
   "source": [
    "print(__doc__)\n",
    "\"\"\" PLEASE comment any print/plot function in this block on submission \"\"\"\n",
    "def display_sample_images_from_dataset(dataset):\n",
    "    with open(dataset[9], 'rb') as f:\n",
    "        print(\"Lable of image is \", os.path.splitext(os.path.basename(f.name))[0])\n",
    "        # unpickle\n",
    "        letter_set = pickle.load(f)\n",
    "        # pick a random image index\n",
    "        sample_idx = np.random.randint(len(letter_set))\n",
    "        # extract a 2D slice\n",
    "        sample_image = letter_set[sample_idx, :, :]  \n",
    "        plt.figure()\n",
    "        # display it\n",
    "        plt.imshow(sample_image) \n",
    "display_sample_images_from_dataset(train_datasets)\n"
   ]
  },
  {
   "cell_type": "markdown",
   "metadata": {
    "colab_type": "text",
    "id": "cYznx5jUwzoO"
   },
   "source": [
    "---\n",
    "Exercise 3\n",
    "---------\n",
    "Another check: we expect the data to be balanced across classes. Verify that if the number of samples across classes are balanced.\n",
    "---"
   ]
  },
  {
   "cell_type": "code",
   "execution_count": 8,
   "metadata": {},
   "outputs": [
    {
     "name": "stdout",
     "output_type": "stream",
     "text": [
      " PLEASE comment any print/plot function in this block on submission \n",
      "Number of training lables of each letter is:  A 52909\n",
      "Number of training lables of each letter is:  B 52911\n",
      "Number of training lables of each letter is:  C 52912\n",
      "Number of training lables of each letter is:  D 52911\n",
      "Number of training lables of each letter is:  E 52912\n",
      "Number of training lables of each letter is:  F 52912\n",
      "Number of training lables of each letter is:  G 52912\n",
      "Number of training lables of each letter is:  H 52912\n",
      "Number of training lables of each letter is:  I 52912\n",
      "Number of training lables of each letter is:  J 52911\n"
     ]
    }
   ],
   "source": [
    "print(__doc__)\n",
    "\"\"\" PLEASE comment any print/plot function in this block on submission \"\"\"\n",
    "def Check_Balanced_Across_Classes(dataset):\n",
    "    count_sample = np.zeros(num_classes-1)\n",
    "    for letter_index in range(0, len(dataset)):\n",
    "        with open (dataset[letter_index], 'rb')as f:\n",
    "            print(\"Number of training lables of each letter is: \", os.path.splitext(os.path.basename(f.name))[0], len(pickle.load(f)))\n",
    "Check_Balanced_Across_Classes(train_datasets)"
   ]
  },
  {
   "cell_type": "markdown",
   "metadata": {
    "colab_type": "text",
    "id": "LA7M7K22ynCt"
   },
   "source": [
    "## Generate train, test, validation sets\n",
    "\n",
    "Merge and prune the training data as needed. Depending on your computer setup, you might not be able to fit it all in memory, and you can tune `train_size` as needed. The labels will be stored into a separate array of integers 0 through 9.\n",
    "\n",
    "Also create a validation dataset for hyperparameter tuning."
   ]
  },
  {
   "cell_type": "code",
   "execution_count": 8,
   "metadata": {
    "cellView": "both",
    "colab": {
     "autoexec": {
      "startup": false,
      "wait_interval": 0
     },
     "output_extras": [
      {
       "item_id": 1
      }
     ]
    },
    "colab_type": "code",
    "executionInfo": {
     "elapsed": 411281,
     "status": "ok",
     "timestamp": 1444485897869,
     "user": {
      "color": "#1FA15D",
      "displayName": "Vincent Vanhoucke",
      "isAnonymous": false,
      "isMe": true,
      "permissionId": "05076109866853157986",
      "photoUrl": "//lh6.googleusercontent.com/-cCJa7dTDcgQ/AAAAAAAAAAI/AAAAAAAACgw/r2EZ_8oYer4/s50-c-k-no/photo.jpg",
      "sessionId": "2a0a5e044bb03b66",
      "userId": "102167687554210253930"
     },
     "user_tz": 420
    },
    "id": "s3mWgZLpyuzq",
    "outputId": "8af66da6-902d-4719-bedc-7c9fb7ae7948"
   },
   "outputs": [
    {
     "name": "stdout",
     "output_type": "stream",
     "text": [
      "Training: (200000, 28, 28) (200000,)\n",
      "Validation: (10000, 28, 28) (10000,)\n",
      "Testing: (10000, 28, 28) (10000,)\n"
     ]
    }
   ],
   "source": [
    "def make_arrays(nb_rows, img_size):\n",
    "    if nb_rows:\n",
    "        dataset = np.ndarray((nb_rows, img_size, img_size), dtype=np.float32)\n",
    "        labels = np.ndarray(nb_rows, dtype=np.int32)\n",
    "    else:\n",
    "        dataset, labels = None, None\n",
    "    return dataset, labels\n",
    "\n",
    "def merge_datasets(pickle_files, train_size, valid_size=0):\n",
    "    num_classes = len(pickle_files)\n",
    "    valid_dataset, valid_labels = make_arrays(valid_size, image_size)\n",
    "    train_dataset, train_labels = make_arrays(train_size, image_size)\n",
    "    vsize_per_class = valid_size // num_classes\n",
    "    tsize_per_class = train_size // num_classes\n",
    "\n",
    "    start_v, start_t = 0, 0\n",
    "    end_v, end_t = vsize_per_class, tsize_per_class\n",
    "    end_l = vsize_per_class+tsize_per_class\n",
    "    for label, pickle_file in enumerate(pickle_files):       \n",
    "        try:\n",
    "            with open(pickle_file, 'rb') as f:\n",
    "                letter_set = pickle.load(f)\n",
    "                # let's shuffle the letters to have random validation and training set\n",
    "                np.random.shuffle(letter_set)\n",
    "                if valid_dataset is not None:\n",
    "                    valid_letter = letter_set[:vsize_per_class, :, :]\n",
    "                    valid_dataset[start_v:end_v, :, :] = valid_letter\n",
    "                    valid_labels[start_v:end_v] = label\n",
    "                    start_v += vsize_per_class\n",
    "                    end_v += vsize_per_class\n",
    "\n",
    "                train_letter = letter_set[vsize_per_class:end_l, :, :]\n",
    "                train_dataset[start_t:end_t, :, :] = train_letter\n",
    "                train_labels[start_t:end_t] = label\n",
    "                start_t += tsize_per_class\n",
    "                end_t += tsize_per_class\n",
    "        except Exception as e:\n",
    "            print('Unable to process data from', pickle_file, ':', e)\n",
    "            raise\n",
    "\n",
    "    return valid_dataset, valid_labels, train_dataset, train_labels\n",
    "\n",
    "            \n",
    "train_size = 200000\n",
    "valid_size = 10000\n",
    "test_size = 10000\n",
    "\n",
    "valid_dataset, valid_labels, train_dataset, train_labels = merge_datasets(\n",
    "  train_datasets, train_size, valid_size)\n",
    "_, _, test_dataset, test_labels = merge_datasets(test_datasets, test_size)\n",
    "\n",
    "print('Training:', train_dataset.shape, train_labels.shape)\n",
    "print('Validation:', valid_dataset.shape, valid_labels.shape)\n",
    "print('Testing:', test_dataset.shape, test_labels.shape)"
   ]
  },
  {
   "cell_type": "markdown",
   "metadata": {
    "colab_type": "text",
    "id": "GPTCnjIcyuKN"
   },
   "source": [
    "Next, we'll randomize the data. It's important to have the labels well shuffled for the training and test distributions to match."
   ]
  },
  {
   "cell_type": "code",
   "execution_count": 9,
   "metadata": {
    "cellView": "both",
    "colab": {
     "autoexec": {
      "startup": false,
      "wait_interval": 0
     }
    },
    "colab_type": "code",
    "id": "6WZ2l2tN2zOL"
   },
   "outputs": [],
   "source": [
    "def randomize(dataset, labels):\n",
    "    permutation = np.random.permutation(labels.shape[0])\n",
    "    shuffled_dataset = dataset[permutation,:,:]\n",
    "    shuffled_labels = labels[permutation]\n",
    "    return shuffled_dataset, shuffled_labels\n",
    "train_dataset, train_labels = randomize(train_dataset, train_labels)\n",
    "test_dataset, test_labels = randomize(test_dataset, test_labels)\n",
    "valid_dataset, valid_labels = randomize(valid_dataset, valid_labels)"
   ]
  },
  {
   "cell_type": "markdown",
   "metadata": {
    "colab_type": "text",
    "id": "puDUTe6t6USl"
   },
   "source": [
    "---\n",
    "Exercise 4\n",
    "---------\n",
    "Convince yourself that the data is still good after shuffling! Display one of the images and see if it's not distorted.\n",
    "\n",
    "---"
   ]
  },
  {
   "cell_type": "code",
   "execution_count": 10,
   "metadata": {},
   "outputs": [
    {
     "name": "stdout",
     "output_type": "stream",
     "text": [
      " PLEASE comment any print/plot function in this block on submission \n",
      "Display_\n",
      "[187606  24311  66883  57708 175400  83314  17574  88726  66818   1802]\n"
     ]
    },
    {
     "data": {
      "image/png": "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\n",
      "text/plain": [
       "<Figure size 1080x360 with 10 Axes>"
      ]
     },
     "metadata": {
      "needs_background": "light"
     },
     "output_type": "display_data"
    }
   ],
   "source": [
    "print(__doc__)\n",
    "\"\"\" PLEASE comment any print/plot function in this block on submission \"\"\"\n",
    "def display_one_of_the_images(dataset, label, s=None):\n",
    "    print(s)\n",
    "    m1, m2 = dataset.shape[0], label.shape[0]\n",
    "    assert(m1 == m2)\n",
    "    # randomly choose 10 images to check label\n",
    "    indices = np.random.randint(0, m1, size=10)\n",
    "    fig = plt.figure(figsize=(15, 5))\n",
    "    print(indices)\n",
    "    for i, idx in enumerate(indices):\n",
    "        fig.add_subplot(1, len(indices), i + 1)\n",
    "        plt.imshow(dataset[idx, :, :])\n",
    "display_one_of_the_images(train_dataset,train_labels,'Display_')"
   ]
  },
  {
   "cell_type": "markdown",
   "metadata": {
    "colab_type": "text",
    "id": "tIQJaJuwg5Hw"
   },
   "source": [
    "Finally, let's save the data for later reuse:"
   ]
  },
  {
   "cell_type": "code",
   "execution_count": 11,
   "metadata": {
    "cellView": "both",
    "colab": {
     "autoexec": {
      "startup": false,
      "wait_interval": 0
     }
    },
    "colab_type": "code",
    "id": "QiR_rETzem6C"
   },
   "outputs": [],
   "source": [
    "pickle_file = os.path.join(data_root, 'notMNIST.pickle')\n",
    "\n",
    "try:\n",
    "    f = open(pickle_file, 'wb')\n",
    "    save = {\n",
    "        'train_dataset': train_dataset,\n",
    "        'train_labels': train_labels,\n",
    "        'valid_dataset': valid_dataset,\n",
    "        'valid_labels': valid_labels,\n",
    "        'test_dataset': test_dataset,\n",
    "        'test_labels': test_labels,\n",
    "    }\n",
    "    pickle.dump(save, f, pickle.HIGHEST_PROTOCOL)\n",
    "    f.close()\n",
    "except Exception as e:\n",
    "    print('Unable to save data to', pickle_file, ':', e)\n",
    "    raise"
   ]
  },
  {
   "cell_type": "code",
   "execution_count": 12,
   "metadata": {
    "cellView": "both",
    "colab": {
     "autoexec": {
      "startup": false,
      "wait_interval": 0
     },
     "output_extras": [
      {
       "item_id": 1
      }
     ]
    },
    "colab_type": "code",
    "executionInfo": {
     "elapsed": 413065,
     "status": "ok",
     "timestamp": 1444485899688,
     "user": {
      "color": "#1FA15D",
      "displayName": "Vincent Vanhoucke",
      "isAnonymous": false,
      "isMe": true,
      "permissionId": "05076109866853157986",
      "photoUrl": "//lh6.googleusercontent.com/-cCJa7dTDcgQ/AAAAAAAAAAI/AAAAAAAACgw/r2EZ_8oYer4/s50-c-k-no/photo.jpg",
      "sessionId": "2a0a5e044bb03b66",
      "userId": "102167687554210253930"
     },
     "user_tz": 420
    },
    "id": "hQbLjrW_iT39",
    "outputId": "b440efc6-5ee1-4cbc-d02d-93db44ebd956"
   },
   "outputs": [
    {
     "name": "stdout",
     "output_type": "stream",
     "text": [
      "Compressed pickle size: 690800506\n"
     ]
    }
   ],
   "source": [
    "statinfo = os.stat(pickle_file)\n",
    "print('Compressed pickle size:', statinfo.st_size)"
   ]
  },
  {
   "cell_type": "markdown",
   "metadata": {
    "colab_type": "text",
    "id": "gE_cRAQB33lk"
   },
   "source": [
    "---\n",
    "Exercise 5\n",
    "---------\n",
    "\n",
    "By construction, this dataset might contain a lot of overlapping samples, including training data that's also contained in the validation and test set! Overlap between training and test can skew the results if you expect to use your model in an environment where there is never an overlap, but are actually ok if you expect to see training samples recur when you use it.\n",
    "Measure how much overlap there is between training, validation and test samples.\n",
    "\n",
    "Important Hint: Since the size of the dataset is large, it demands much time to search and compare. Using *hash, set* function in python may help.\n",
    "\n",
    "Optional questions:\n",
    "- What about near duplicates between datasets? (images that are almost identical)\n",
    "- Create a sanitized validation and test set, and compare your accuracy on those in subsequent assignments.\n",
    "---"
   ]
  },
  {
   "cell_type": "code",
   "execution_count": 13,
   "metadata": {},
   "outputs": [
    {
     "name": "stdout",
     "output_type": "stream",
     "text": [
      " PLEASE comment any print/plot function in this block on submission \n",
      "Number of overlaps between training and test sets: 1125. Execution time: 0.6697479999999985.\n",
      "Number of overlaps between training and validation sets: 941. Execution time: 0.4647760000000005.\n",
      "Number of overlaps between validation and test sets: 68. Execution time: 0.04346100000000774.\n"
     ]
    }
   ],
   "source": [
    "import time\n",
    "print(__doc__)\n",
    "\"\"\" PLEASE comment any print/plot function in this block on submission \"\"\"\n",
    "def check_overlap_samples(images1, images2):\n",
    "    images1.flags.writeable=False\n",
    "    images2.flags.writeable=False\n",
    "    start = time.clock()\n",
    "    hash1 = set([hash(image1.tobytes()) for image1 in images1])\n",
    "    hash2 = set([hash(image2.tobytes()) for image2 in images2])\n",
    "    all_overlaps = set.intersection(hash1, hash2)\n",
    "    return all_overlaps, time.clock()-start\n",
    "\n",
    "r, execTime = check_overlap_samples(train_dataset, test_dataset)    \n",
    "print('Number of overlaps between training and test sets: {}. Execution time: {}.'.format(len(r), execTime))\n",
    "\n",
    "r, execTime = check_overlap_samples(train_dataset, valid_dataset)   \n",
    "print('Number of overlaps between training and validation sets: {}. Execution time: {}.'.format(len(r), execTime))\n",
    "\n",
    "r, execTime = check_overlap_samples(valid_dataset, test_dataset) \n",
    "print('Number of overlaps between validation and test sets: {}. Execution time: {}.'.format(len(r), execTime))\n",
    "\n",
    "\n"
   ]
  },
  {
   "cell_type": "markdown",
   "metadata": {
    "colab_type": "text",
    "id": "L8oww1s4JMQx"
   },
   "source": [
    "---\n",
    "Problem\n",
    "---------\n",
    "\n",
    "Let's get an idea of what an off-the-shelf classifier can give you on this data. It's always good to check that there is something to learn, and that it's a problem that is not so trivial that a canned solution solves it.\n",
    "\n",
    "Train a simple model on this data using <font color='red'>$100,\\ 500,\\ 2500,\\ and\\ 10000$</font> training samples. *Hint*: Use LogisticRegression model from sklearn.linear_model. You do not need to care about FutureWarning in sklearn.\n",
    "\n",
    "**Evaluation**: Demonstration of training results from different sizes of dataset with test data.\n",
    "\n",
    "---"
   ]
  },
  {
   "cell_type": "code",
   "execution_count": 14,
   "metadata": {},
   "outputs": [
    {
     "name": "stdout",
     "output_type": "stream",
     "text": [
      " PLEASE comment any print/plot function in this block on submission \n"
     ]
    },
    {
     "data": {
      "text/plain": [
       "(200000, 28, 28)"
      ]
     },
     "execution_count": 14,
     "metadata": {},
     "output_type": "execute_result"
    }
   ],
   "source": [
    "print(__doc__)\n",
    "\"\"\" TODO \"\"\"\n",
    "train_dataset.shape"
   ]
  },
  {
   "cell_type": "code",
   "execution_count": 15,
   "metadata": {},
   "outputs": [
    {
     "data": {
      "text/plain": [
       "(10000, 28, 28)"
      ]
     },
     "execution_count": 15,
     "metadata": {},
     "output_type": "execute_result"
    }
   ],
   "source": [
    "test_dataset.shape"
   ]
  },
  {
   "cell_type": "code",
   "execution_count": 16,
   "metadata": {},
   "outputs": [],
   "source": [
    "# Prepare training data\n",
    "samples, width, height = train_dataset.shape\n",
    "X_train = np.reshape(train_dataset,(samples,width*height))\n",
    "y_train = train_labels\n",
    "\n",
    "# Prepare testing data\n",
    "samples, width, height = test_dataset.shape\n",
    "X_test = np.reshape(test_dataset,(samples,width*height))\n",
    "y_test = test_labels"
   ]
  },
  {
   "cell_type": "code",
   "execution_count": 1,
   "metadata": {},
<<<<<<< HEAD
   "outputs": [],
=======
   "outputs": [
    {
     "ename": "NameError",
     "evalue": "name 'X_train' is not defined",
     "output_type": "error",
     "traceback": [
      "\u001b[0;31m---------------------------------------------------------------------------\u001b[0m",
      "\u001b[0;31mNameError\u001b[0m                                 Traceback (most recent call last)",
      "\u001b[0;32m<ipython-input-1-20ca6c597fb9>\u001b[0m in \u001b[0;36m<module>\u001b[0;34m\u001b[0m\n\u001b[1;32m      5\u001b[0m \u001b[0;34m\u001b[0m\u001b[0m\n\u001b[1;32m      6\u001b[0m \u001b[0;31m# Fit\u001b[0m\u001b[0;34m\u001b[0m\u001b[0;34m\u001b[0m\u001b[0;34m\u001b[0m\u001b[0m\n\u001b[0;32m----> 7\u001b[0;31m \u001b[0mlg\u001b[0m\u001b[0;34m.\u001b[0m\u001b[0mfit\u001b[0m\u001b[0;34m(\u001b[0m\u001b[0mX_train\u001b[0m\u001b[0;34m,\u001b[0m \u001b[0my_train\u001b[0m\u001b[0;34m)\u001b[0m\u001b[0;34m\u001b[0m\u001b[0;34m\u001b[0m\u001b[0m\n\u001b[0m\u001b[1;32m      8\u001b[0m \u001b[0;34m\u001b[0m\u001b[0m\n\u001b[1;32m      9\u001b[0m \u001b[0;31m# Predict\u001b[0m\u001b[0;34m\u001b[0m\u001b[0;34m\u001b[0m\u001b[0;34m\u001b[0m\u001b[0m\n",
      "\u001b[0;31mNameError\u001b[0m: name 'X_train' is not defined"
     ]
    }
   ],
>>>>>>> e2d2201efeb74adf71a0875a93d846f65d099b42
   "source": [
    "from sklearn.linear_model import LogisticRegression\n",
    "\n",
    "# Instantiate\n",
    "lg = LogisticRegression(multi_class='multinomial', solver='lbfgs', random_state=42, verbose=1, max_iter=1000, n_jobs=-1)\n",
    "\n",
    "# Fit\n",
    "lg.fit(X_train, y_train)\n",
    "\n",
    "# Predict\n",
    "y_pred = lg.predict(X_test)\n",
    "\n",
    "# Score\n",
    "from sklearn import metrics\n",
    "metrics.accuracy_score(y_test, y_pred)\n"
   ]
  }
 ],
 "metadata": {
  "colab": {
   "default_view": {},
   "name": "1_notmnist.ipynb",
   "provenance": [],
   "version": "0.3.2",
   "views": {}
  },
  "kernelspec": {
   "display_name": "Python 3",
   "language": "python",
   "name": "python3"
  },
  "language_info": {
   "codemirror_mode": {
    "name": "ipython",
    "version": 3
   },
   "file_extension": ".py",
   "mimetype": "text/x-python",
   "name": "python",
   "nbconvert_exporter": "python",
   "pygments_lexer": "ipython3",
   "version": "3.6.9"
  }
 },
 "nbformat": 4,
 "nbformat_minor": 2
}
