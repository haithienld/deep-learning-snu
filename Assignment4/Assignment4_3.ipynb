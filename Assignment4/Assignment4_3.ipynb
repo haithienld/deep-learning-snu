{
 "cells": [
  {
   "cell_type": "markdown",
   "metadata": {},
   "source": [
    "# M2177.003100 Deep Learning <br> Assignment #4 Implementing Conditional Generative Adversarial Nets - part3 Labeld Face Data\n",
    "\n",
    "Copyright (C) Data Science Laboratory, Seoul National University. This material is for educational uses only. Some contents are based on the material provided by other paper/book authors and may be copyrighted by them. Written by Jaeyoon Yoo, November 2017\n",
    "\n",
    "In this notebook, you will learn how to implement conditional Genverative Adversarial Nets (cGANs) <br>\n",
    "The goal here is to build GANs that draw a face given its label. You can draw a black male/black female/white male/white female as you gives an input at the end of training. <br> \n",
    "\n",
    "**Note**: certain details are missing or ambiguous on purpose, in order to test your knowledge on the related materials. However, if you really feel that something essential is missing and cannot proceed to the next step, then contact the teaching staff with clear description of your problem.\n",
    "\n",
    "### Submitting your work:\n",
    "<font color=red>**DO NOT clear the final outputs**</font> so that TAs can grade both your code and results.  \n",
    "Once you have done **all parts**, run the *CollectSubmission.sh* script with your **Team number** as input argument. <br>\n",
    "This will produce a zipped file called *[Your team number].zip*. Please submit this file on ETL. &nbsp;&nbsp; (Usage: ./*CollectSubmission.sh* &nbsp; Team_#)\n",
    "\n",
    "### Some helpful tutorials and references for assignment #3:\n",
    "- [1] TensorFlow official tutorials. [[link]](https://www.tensorflow.org/get_started/get_started)\n",
    "- [2] Stanford CS231n lectures. [[link]](http://cs231n.stanford.edu/)\n",
    "- [3] Goodfellow, Ian, et al. \"Generative adversarial nets.\" Advances in neural information processing systems. 2014.\n",
    "- [4] Mirza, Mehdi, and Simon Osindero. \"Conditional generative adversarial nets.\" arXiv preprint arXiv:1411.1784 (2014).\n",
    "- [5] Radford, Alec, Luke Metz, and Soumith Chintala. \"Unsupervised representation learning with deep convolutional generative adversarial networks.\" arXiv preprint arXiv:1511.06434 (2015)."
   ]
  },
  {
   "cell_type": "markdown",
   "metadata": {},
   "source": [
    "## 0. Download and load Face datasets\n",
    "Unzip the face_dataset.tar.gz in data directory as follows.<br>\n",
    "**cd ./data**<br>\n",
    "**tar -xf face_dataset.tar.gz**<br>\n",
    "\n",
    "Following is how to load the data. Modify  *data_dir* to be the directory the data is in. Or you will get an error.<br>"
   ]
  },
  {
   "cell_type": "code",
   "execution_count": null,
   "metadata": {},
   "outputs": [],
   "source": [
    "from utils import load_face\n",
    "data_dir = './data/face_dataset'\n",
    "im, label = load_face(data_dir)"
   ]
  },
  {
   "cell_type": "markdown",
   "metadata": {},
   "source": [
    "There are 13143 images and corresponding lables. Labels have three values. Following is the detail:\n",
    "\n",
    "Label1 - Male/Female : positive value means male<br>\n",
    "Label2 - White/Not white : positive value means White<br>\n",
    "Lable3 - Black/Not black : positive value menas black<br>\n",
    "The large value represents the more property it has.\n",
    "\n",
    "Note that the labels are not normalized and check the data by runing and modifying following code"
   ]
  },
  {
   "cell_type": "code",
   "execution_count": null,
   "metadata": {},
   "outputs": [],
   "source": [
    "import pylab as plt\n",
    "for i in range(5):\n",
    "    plt.imshow(im[i])\n",
    "    plt.show()\n",
    "    print(label[i])"
   ]
  },
  {
   "cell_type": "markdown",
   "metadata": {},
   "source": [
    "## <a name=\"1\"></a> 1. Build a network\n",
    "\n",
    "In this section, you will implement neural networks for (1) generative model (2) discriminative model. You can reuse your code in part1 and improve it. Just write the code in whatever way you find most clear."
   ]
  },
  {
   "cell_type": "code",
   "execution_count": null,
   "metadata": {},
   "outputs": [],
   "source": [
    "from utils import load_face\n",
    "from utils import getNext_batch\n",
    "from utils import save_images\n",
    "from utils import vis_square\n",
    "from utils import sample_label\n",
    "from utils import sample_label_face\n",
    "import matplotlib.pyplot as plt\n",
    "import matplotlib.image as mpimg\n",
    "\n",
    "import cv2\n",
    "\n",
    "from ops import conv2d\n",
    "from ops import lrelu\n",
    "from ops import de_conv\n",
    "from ops import fully_connect\n",
    "from ops import conv_cond_concat\n",
    "from ops import batch_normal\n",
    "\n",
    "import tensorflow as tf\n",
    "import numpy as np\n",
    "\n",
    "learning_rate = 0.0002\n",
    "batch_size = 128\n",
    "EPOCH = 300\n",
    "display_step = 50\n",
    "sample_size = 100\n",
    "y_dim = 3\n",
    "channel = 3\n"
   ]
  },
  {
   "cell_type": "markdown",
   "metadata": {},
   "source": [
    "It is time for a generative model. You can change anything including the argument If you need. Feel free to change it and improve it."
   ]
  },
  {
   "cell_type": "code",
   "execution_count": null,
   "metadata": {},
   "outputs": [],
   "source": [
    "def gern_net(batch_size, z , y ,sample_size, y_dim, output_size):\n",
    " #### TODO ####\n"
   ]
  },
  {
   "cell_type": "markdown",
   "metadata": {},
   "source": [
    "Now, it's time for a discriminative model. Again, you can change anything if you need"
   ]
  },
  {
   "cell_type": "code",
   "execution_count": null,
   "metadata": {},
   "outputs": [],
   "source": [
    "def dis_net(data_array , y, reuse=False):\n",
    " #### TODO ####\n",
    "\n"
   ]
  },
  {
   "cell_type": "markdown",
   "metadata": {},
   "source": [
    "## <a name=\"2\"></a> 2. Build a main part and train it\n",
    "\n",
    "In this section, you will implement the main part. Then run the code and check the model draws the face properly.\n",
    "\n",
    "When you are done, run the following to check your implementations.\n",
    "\n",
    "Following code will make 'samples_for_test' directory that resulting image will be saved in. You can change the directory as you want."
   ]
  },
  {
   "cell_type": "code",
   "execution_count": null,
   "metadata": {},
   "outputs": [],
   "source": [
    "from utils import load_mnist\n",
    "from utils import save_images\n",
    "from utils import vis_square\n",
    "from utils import sample_label\n",
    "from utils import getNext_batch\n",
    "import matplotlib.pyplot as plt\n",
    "import matplotlib.image as mpimg\n",
    "import cv2\n",
    "import os\n",
    "\n",
    "learning_rate = 0.0002\n",
    "batch_size = 128\n",
    "EPOCH = 300\n",
    "display_step = 50\n",
    "sample_size = 100\n",
    "y_dim = 3\n",
    "channel = 3\n",
    "output_size = 64\n",
    "sample_dir = 'samples_for_test'\n",
    "\n",
    "if os.path.exists(sample_dir) == False:\n",
    "    os.makedirs(sample_dir)\n",
    "\n",
    "# for auto-reloading external modules\n",
    "# see http://stackoverflow.com/questions/1907993/autoreload-of-modules-in-ipython\n",
    "%load_ext autoreload\n",
    "%autoreload 2"
   ]
  },
  {
   "cell_type": "markdown",
   "metadata": {},
   "source": [
    "Feel free to fill in the main part. You can copy the part1 code or write your own code.\n",
    "\n",
    "Your goal is to **generate 4 row and 8 column images(32 total)**.\n",
    "\n",
    "**Each row should correspond to each label**.\n",
    "\n",
    "First row : black male<br>\n",
    "Second row: black female<br>\n",
    "Third row : white male<br>\n",
    "Fourth row: white female<br>\n",
    "\n",
    "You can use \"save_images\" method in *utils.py* to align generated image by 4*8. See part1 code to get how to use it.\n",
    "\n",
    "You must show **at least three generated images**. (At the beginning of ,in the midway of, at the end of training.)\n"
   ]
  },
  {
   "cell_type": "code",
   "execution_count": null,
   "metadata": {},
   "outputs": [],
   "source": [
    "#### TODO ####"
   ]
  }
 ],
 "metadata": {
  "kernelspec": {
   "display_name": "Python 3",
   "language": "python",
   "name": "python3"
  },
  "language_info": {
   "codemirror_mode": {
    "name": "ipython",
    "version": 3
   },
   "file_extension": ".py",
   "mimetype": "text/x-python",
   "name": "python",
   "nbconvert_exporter": "python",
   "pygments_lexer": "ipython3",
   "version": "3.6.9"
  }
 },
 "nbformat": 4,
 "nbformat_minor": 1
}
